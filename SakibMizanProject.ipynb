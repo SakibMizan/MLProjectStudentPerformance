{
 "cells": [
  {
   "cell_type": "markdown",
   "id": "f7b57e61",
   "metadata": {},
   "source": [
    "                                    ***Sakib Mizan_A_2154901009 ML Final Project***"
   ]
  },
  {
   "cell_type": "markdown",
   "id": "bf5232d3",
   "metadata": {},
   "source": [
    "### Importing Libraries"
   ]
  },
  {
   "cell_type": "code",
   "execution_count": 602,
   "id": "c4a841a6",
   "metadata": {},
   "outputs": [],
   "source": [
    "import numpy as np\n",
    "import pandas as pd\n",
    "import matplotlib.pyplot as plt\n",
    "import seaborn as sns"
   ]
  },
  {
   "cell_type": "markdown",
   "id": "be71649b",
   "metadata": {},
   "source": [
    "### Importing Dataset"
   ]
  },
  {
   "cell_type": "code",
   "execution_count": 603,
   "id": "4c37ab0b",
   "metadata": {},
   "outputs": [
    {
     "data": {
      "text/html": [
       "<div>\n",
       "<style scoped>\n",
       "    .dataframe tbody tr th:only-of-type {\n",
       "        vertical-align: middle;\n",
       "    }\n",
       "\n",
       "    .dataframe tbody tr th {\n",
       "        vertical-align: top;\n",
       "    }\n",
       "\n",
       "    .dataframe thead th {\n",
       "        text-align: right;\n",
       "    }\n",
       "</style>\n",
       "<table border=\"1\" class=\"dataframe\">\n",
       "  <thead>\n",
       "    <tr style=\"text-align: right;\">\n",
       "      <th></th>\n",
       "      <th>gender</th>\n",
       "      <th>race/ethnicity</th>\n",
       "      <th>parental level of education</th>\n",
       "      <th>lunch</th>\n",
       "      <th>test preparation course</th>\n",
       "      <th>math score</th>\n",
       "      <th>reading score</th>\n",
       "      <th>writing score</th>\n",
       "    </tr>\n",
       "  </thead>\n",
       "  <tbody>\n",
       "    <tr>\n",
       "      <th>0</th>\n",
       "      <td>female</td>\n",
       "      <td>group B</td>\n",
       "      <td>bachelor's degree</td>\n",
       "      <td>standard</td>\n",
       "      <td>none</td>\n",
       "      <td>72</td>\n",
       "      <td>72</td>\n",
       "      <td>74</td>\n",
       "    </tr>\n",
       "    <tr>\n",
       "      <th>1</th>\n",
       "      <td>female</td>\n",
       "      <td>group C</td>\n",
       "      <td>some college</td>\n",
       "      <td>standard</td>\n",
       "      <td>completed</td>\n",
       "      <td>69</td>\n",
       "      <td>90</td>\n",
       "      <td>88</td>\n",
       "    </tr>\n",
       "    <tr>\n",
       "      <th>2</th>\n",
       "      <td>female</td>\n",
       "      <td>group B</td>\n",
       "      <td>master's degree</td>\n",
       "      <td>standard</td>\n",
       "      <td>none</td>\n",
       "      <td>90</td>\n",
       "      <td>95</td>\n",
       "      <td>93</td>\n",
       "    </tr>\n",
       "    <tr>\n",
       "      <th>3</th>\n",
       "      <td>male</td>\n",
       "      <td>group A</td>\n",
       "      <td>associate's degree</td>\n",
       "      <td>free/reduced</td>\n",
       "      <td>none</td>\n",
       "      <td>47</td>\n",
       "      <td>57</td>\n",
       "      <td>44</td>\n",
       "    </tr>\n",
       "    <tr>\n",
       "      <th>4</th>\n",
       "      <td>male</td>\n",
       "      <td>group C</td>\n",
       "      <td>some college</td>\n",
       "      <td>standard</td>\n",
       "      <td>none</td>\n",
       "      <td>76</td>\n",
       "      <td>78</td>\n",
       "      <td>75</td>\n",
       "    </tr>\n",
       "    <tr>\n",
       "      <th>5</th>\n",
       "      <td>female</td>\n",
       "      <td>group B</td>\n",
       "      <td>associate's degree</td>\n",
       "      <td>standard</td>\n",
       "      <td>none</td>\n",
       "      <td>71</td>\n",
       "      <td>83</td>\n",
       "      <td>78</td>\n",
       "    </tr>\n",
       "    <tr>\n",
       "      <th>6</th>\n",
       "      <td>female</td>\n",
       "      <td>group B</td>\n",
       "      <td>some college</td>\n",
       "      <td>standard</td>\n",
       "      <td>completed</td>\n",
       "      <td>88</td>\n",
       "      <td>95</td>\n",
       "      <td>92</td>\n",
       "    </tr>\n",
       "    <tr>\n",
       "      <th>7</th>\n",
       "      <td>male</td>\n",
       "      <td>group B</td>\n",
       "      <td>some college</td>\n",
       "      <td>free/reduced</td>\n",
       "      <td>none</td>\n",
       "      <td>40</td>\n",
       "      <td>43</td>\n",
       "      <td>39</td>\n",
       "    </tr>\n",
       "    <tr>\n",
       "      <th>8</th>\n",
       "      <td>male</td>\n",
       "      <td>group D</td>\n",
       "      <td>high school</td>\n",
       "      <td>free/reduced</td>\n",
       "      <td>completed</td>\n",
       "      <td>64</td>\n",
       "      <td>64</td>\n",
       "      <td>67</td>\n",
       "    </tr>\n",
       "    <tr>\n",
       "      <th>9</th>\n",
       "      <td>female</td>\n",
       "      <td>group B</td>\n",
       "      <td>high school</td>\n",
       "      <td>free/reduced</td>\n",
       "      <td>none</td>\n",
       "      <td>38</td>\n",
       "      <td>60</td>\n",
       "      <td>50</td>\n",
       "    </tr>\n",
       "    <tr>\n",
       "      <th>10</th>\n",
       "      <td>male</td>\n",
       "      <td>group C</td>\n",
       "      <td>associate's degree</td>\n",
       "      <td>standard</td>\n",
       "      <td>none</td>\n",
       "      <td>58</td>\n",
       "      <td>54</td>\n",
       "      <td>52</td>\n",
       "    </tr>\n",
       "    <tr>\n",
       "      <th>11</th>\n",
       "      <td>male</td>\n",
       "      <td>group D</td>\n",
       "      <td>associate's degree</td>\n",
       "      <td>standard</td>\n",
       "      <td>none</td>\n",
       "      <td>40</td>\n",
       "      <td>52</td>\n",
       "      <td>43</td>\n",
       "    </tr>\n",
       "    <tr>\n",
       "      <th>12</th>\n",
       "      <td>female</td>\n",
       "      <td>group B</td>\n",
       "      <td>high school</td>\n",
       "      <td>standard</td>\n",
       "      <td>none</td>\n",
       "      <td>65</td>\n",
       "      <td>81</td>\n",
       "      <td>73</td>\n",
       "    </tr>\n",
       "    <tr>\n",
       "      <th>13</th>\n",
       "      <td>male</td>\n",
       "      <td>group A</td>\n",
       "      <td>some college</td>\n",
       "      <td>standard</td>\n",
       "      <td>completed</td>\n",
       "      <td>78</td>\n",
       "      <td>72</td>\n",
       "      <td>70</td>\n",
       "    </tr>\n",
       "    <tr>\n",
       "      <th>14</th>\n",
       "      <td>female</td>\n",
       "      <td>group A</td>\n",
       "      <td>master's degree</td>\n",
       "      <td>standard</td>\n",
       "      <td>none</td>\n",
       "      <td>50</td>\n",
       "      <td>53</td>\n",
       "      <td>58</td>\n",
       "    </tr>\n",
       "    <tr>\n",
       "      <th>15</th>\n",
       "      <td>female</td>\n",
       "      <td>group C</td>\n",
       "      <td>some high school</td>\n",
       "      <td>standard</td>\n",
       "      <td>none</td>\n",
       "      <td>69</td>\n",
       "      <td>75</td>\n",
       "      <td>78</td>\n",
       "    </tr>\n",
       "    <tr>\n",
       "      <th>16</th>\n",
       "      <td>male</td>\n",
       "      <td>group C</td>\n",
       "      <td>high school</td>\n",
       "      <td>standard</td>\n",
       "      <td>none</td>\n",
       "      <td>88</td>\n",
       "      <td>89</td>\n",
       "      <td>86</td>\n",
       "    </tr>\n",
       "    <tr>\n",
       "      <th>17</th>\n",
       "      <td>female</td>\n",
       "      <td>group B</td>\n",
       "      <td>some high school</td>\n",
       "      <td>free/reduced</td>\n",
       "      <td>none</td>\n",
       "      <td>18</td>\n",
       "      <td>32</td>\n",
       "      <td>28</td>\n",
       "    </tr>\n",
       "    <tr>\n",
       "      <th>18</th>\n",
       "      <td>male</td>\n",
       "      <td>group C</td>\n",
       "      <td>master's degree</td>\n",
       "      <td>free/reduced</td>\n",
       "      <td>completed</td>\n",
       "      <td>46</td>\n",
       "      <td>42</td>\n",
       "      <td>46</td>\n",
       "    </tr>\n",
       "    <tr>\n",
       "      <th>19</th>\n",
       "      <td>female</td>\n",
       "      <td>group C</td>\n",
       "      <td>associate's degree</td>\n",
       "      <td>free/reduced</td>\n",
       "      <td>none</td>\n",
       "      <td>54</td>\n",
       "      <td>58</td>\n",
       "      <td>61</td>\n",
       "    </tr>\n",
       "  </tbody>\n",
       "</table>\n",
       "</div>"
      ],
      "text/plain": [
       "    gender race/ethnicity parental level of education         lunch  \\\n",
       "0   female        group B           bachelor's degree      standard   \n",
       "1   female        group C                some college      standard   \n",
       "2   female        group B             master's degree      standard   \n",
       "3     male        group A          associate's degree  free/reduced   \n",
       "4     male        group C                some college      standard   \n",
       "5   female        group B          associate's degree      standard   \n",
       "6   female        group B                some college      standard   \n",
       "7     male        group B                some college  free/reduced   \n",
       "8     male        group D                 high school  free/reduced   \n",
       "9   female        group B                 high school  free/reduced   \n",
       "10    male        group C          associate's degree      standard   \n",
       "11    male        group D          associate's degree      standard   \n",
       "12  female        group B                 high school      standard   \n",
       "13    male        group A                some college      standard   \n",
       "14  female        group A             master's degree      standard   \n",
       "15  female        group C            some high school      standard   \n",
       "16    male        group C                 high school      standard   \n",
       "17  female        group B            some high school  free/reduced   \n",
       "18    male        group C             master's degree  free/reduced   \n",
       "19  female        group C          associate's degree  free/reduced   \n",
       "\n",
       "   test preparation course  math score  reading score  writing score  \n",
       "0                     none          72             72             74  \n",
       "1                completed          69             90             88  \n",
       "2                     none          90             95             93  \n",
       "3                     none          47             57             44  \n",
       "4                     none          76             78             75  \n",
       "5                     none          71             83             78  \n",
       "6                completed          88             95             92  \n",
       "7                     none          40             43             39  \n",
       "8                completed          64             64             67  \n",
       "9                     none          38             60             50  \n",
       "10                    none          58             54             52  \n",
       "11                    none          40             52             43  \n",
       "12                    none          65             81             73  \n",
       "13               completed          78             72             70  \n",
       "14                    none          50             53             58  \n",
       "15                    none          69             75             78  \n",
       "16                    none          88             89             86  \n",
       "17                    none          18             32             28  \n",
       "18               completed          46             42             46  \n",
       "19                    none          54             58             61  "
      ]
     },
     "execution_count": 603,
     "metadata": {},
     "output_type": "execute_result"
    }
   ],
   "source": [
    "dataset = pd.read_csv('14-StudentsPerformance.csv')\n",
    "dataset.head(20)"
   ]
  },
  {
   "cell_type": "code",
   "execution_count": 604,
   "id": "fa7ef4f7",
   "metadata": {},
   "outputs": [
    {
     "data": {
      "text/plain": [
       "(1000, 8)"
      ]
     },
     "execution_count": 604,
     "metadata": {},
     "output_type": "execute_result"
    }
   ],
   "source": [
    "dataset.shape"
   ]
  },
  {
   "cell_type": "markdown",
   "id": "4f044fa3",
   "metadata": {},
   "source": [
    "### Check Dataset for Missing Values"
   ]
  },
  {
   "cell_type": "code",
   "execution_count": 605,
   "id": "824293f7",
   "metadata": {},
   "outputs": [
    {
     "name": "stdout",
     "output_type": "stream",
     "text": [
      "gender                         0\n",
      "race/ethnicity                 0\n",
      "parental level of education    0\n",
      "lunch                          0\n",
      "test preparation course        0\n",
      "math score                     0\n",
      "reading score                  0\n",
      "writing score                  0\n",
      "dtype: int64\n"
     ]
    }
   ],
   "source": [
    "missing_data = dataset.isnull().sum()\n",
    "print(missing_data)"
   ]
  },
  {
   "cell_type": "markdown",
   "id": "0136fcc0",
   "metadata": {},
   "source": [
    "### Checking for Duplicate Data"
   ]
  },
  {
   "cell_type": "code",
   "execution_count": 606,
   "id": "b17b9fd8",
   "metadata": {},
   "outputs": [
    {
     "name": "stdout",
     "output_type": "stream",
     "text": [
      "0\n"
     ]
    }
   ],
   "source": [
    "duplicate_data = dataset.duplicated().sum()\n",
    "print(duplicate_data)"
   ]
  },
  {
   "cell_type": "markdown",
   "id": "92bd6bfd",
   "metadata": {},
   "source": [
    "### Checking Data Type"
   ]
  },
  {
   "cell_type": "code",
   "execution_count": 607,
   "id": "9a0c85fc",
   "metadata": {},
   "outputs": [
    {
     "name": "stdout",
     "output_type": "stream",
     "text": [
      "<class 'pandas.core.frame.DataFrame'>\n",
      "RangeIndex: 1000 entries, 0 to 999\n",
      "Data columns (total 8 columns):\n",
      " #   Column                       Non-Null Count  Dtype \n",
      "---  ------                       --------------  ----- \n",
      " 0   gender                       1000 non-null   object\n",
      " 1   race/ethnicity               1000 non-null   object\n",
      " 2   parental level of education  1000 non-null   object\n",
      " 3   lunch                        1000 non-null   object\n",
      " 4   test preparation course      1000 non-null   object\n",
      " 5   math score                   1000 non-null   int64 \n",
      " 6   reading score                1000 non-null   int64 \n",
      " 7   writing score                1000 non-null   int64 \n",
      "dtypes: int64(3), object(5)\n",
      "memory usage: 62.6+ KB\n"
     ]
    }
   ],
   "source": [
    "dataset.info()"
   ]
  },
  {
   "cell_type": "markdown",
   "id": "e13a9ee5",
   "metadata": {},
   "source": [
    "### Checking for Unique Entities"
   ]
  },
  {
   "cell_type": "code",
   "execution_count": 608,
   "id": "1ebc3066",
   "metadata": {},
   "outputs": [
    {
     "data": {
      "text/plain": [
       "gender                          2\n",
       "race/ethnicity                  5\n",
       "parental level of education     6\n",
       "lunch                           2\n",
       "test preparation course         2\n",
       "math score                     81\n",
       "reading score                  72\n",
       "writing score                  77\n",
       "dtype: int64"
      ]
     },
     "execution_count": 608,
     "metadata": {},
     "output_type": "execute_result"
    }
   ],
   "source": [
    "dataset.nunique()"
   ]
  },
  {
   "cell_type": "markdown",
   "id": "8178e055",
   "metadata": {},
   "source": [
    "### Statistical Overview of the Dataset"
   ]
  },
  {
   "cell_type": "code",
   "execution_count": 609,
   "id": "fbee546b",
   "metadata": {},
   "outputs": [
    {
     "data": {
      "text/html": [
       "<div>\n",
       "<style scoped>\n",
       "    .dataframe tbody tr th:only-of-type {\n",
       "        vertical-align: middle;\n",
       "    }\n",
       "\n",
       "    .dataframe tbody tr th {\n",
       "        vertical-align: top;\n",
       "    }\n",
       "\n",
       "    .dataframe thead th {\n",
       "        text-align: right;\n",
       "    }\n",
       "</style>\n",
       "<table border=\"1\" class=\"dataframe\">\n",
       "  <thead>\n",
       "    <tr style=\"text-align: right;\">\n",
       "      <th></th>\n",
       "      <th>math score</th>\n",
       "      <th>reading score</th>\n",
       "      <th>writing score</th>\n",
       "    </tr>\n",
       "  </thead>\n",
       "  <tbody>\n",
       "    <tr>\n",
       "      <th>count</th>\n",
       "      <td>1000.00000</td>\n",
       "      <td>1000.000000</td>\n",
       "      <td>1000.000000</td>\n",
       "    </tr>\n",
       "    <tr>\n",
       "      <th>mean</th>\n",
       "      <td>66.08900</td>\n",
       "      <td>69.169000</td>\n",
       "      <td>68.054000</td>\n",
       "    </tr>\n",
       "    <tr>\n",
       "      <th>std</th>\n",
       "      <td>15.16308</td>\n",
       "      <td>14.600192</td>\n",
       "      <td>15.195657</td>\n",
       "    </tr>\n",
       "    <tr>\n",
       "      <th>min</th>\n",
       "      <td>0.00000</td>\n",
       "      <td>17.000000</td>\n",
       "      <td>10.000000</td>\n",
       "    </tr>\n",
       "    <tr>\n",
       "      <th>25%</th>\n",
       "      <td>57.00000</td>\n",
       "      <td>59.000000</td>\n",
       "      <td>57.750000</td>\n",
       "    </tr>\n",
       "    <tr>\n",
       "      <th>50%</th>\n",
       "      <td>66.00000</td>\n",
       "      <td>70.000000</td>\n",
       "      <td>69.000000</td>\n",
       "    </tr>\n",
       "    <tr>\n",
       "      <th>75%</th>\n",
       "      <td>77.00000</td>\n",
       "      <td>79.000000</td>\n",
       "      <td>79.000000</td>\n",
       "    </tr>\n",
       "    <tr>\n",
       "      <th>max</th>\n",
       "      <td>100.00000</td>\n",
       "      <td>100.000000</td>\n",
       "      <td>100.000000</td>\n",
       "    </tr>\n",
       "  </tbody>\n",
       "</table>\n",
       "</div>"
      ],
      "text/plain": [
       "       math score  reading score  writing score\n",
       "count  1000.00000    1000.000000    1000.000000\n",
       "mean     66.08900      69.169000      68.054000\n",
       "std      15.16308      14.600192      15.195657\n",
       "min       0.00000      17.000000      10.000000\n",
       "25%      57.00000      59.000000      57.750000\n",
       "50%      66.00000      70.000000      69.000000\n",
       "75%      77.00000      79.000000      79.000000\n",
       "max     100.00000     100.000000     100.000000"
      ]
     },
     "execution_count": 609,
     "metadata": {},
     "output_type": "execute_result"
    }
   ],
   "source": [
    "dataset.describe()"
   ]
  },
  {
   "cell_type": "markdown",
   "id": "a3e487ef",
   "metadata": {},
   "source": [
    "### Assigning Independent variables to x & Dependent variables to y"
   ]
  },
  {
   "cell_type": "code",
   "execution_count": 610,
   "id": "c3182b82",
   "metadata": {},
   "outputs": [
    {
     "data": {
      "text/html": [
       "<div>\n",
       "<style scoped>\n",
       "    .dataframe tbody tr th:only-of-type {\n",
       "        vertical-align: middle;\n",
       "    }\n",
       "\n",
       "    .dataframe tbody tr th {\n",
       "        vertical-align: top;\n",
       "    }\n",
       "\n",
       "    .dataframe thead th {\n",
       "        text-align: right;\n",
       "    }\n",
       "</style>\n",
       "<table border=\"1\" class=\"dataframe\">\n",
       "  <thead>\n",
       "    <tr style=\"text-align: right;\">\n",
       "      <th></th>\n",
       "      <th>gender</th>\n",
       "      <th>race/ethnicity</th>\n",
       "      <th>parental level of education</th>\n",
       "      <th>lunch</th>\n",
       "      <th>math score</th>\n",
       "      <th>reading score</th>\n",
       "      <th>writing score</th>\n",
       "    </tr>\n",
       "  </thead>\n",
       "  <tbody>\n",
       "    <tr>\n",
       "      <th>0</th>\n",
       "      <td>female</td>\n",
       "      <td>group B</td>\n",
       "      <td>bachelor's degree</td>\n",
       "      <td>standard</td>\n",
       "      <td>72</td>\n",
       "      <td>72</td>\n",
       "      <td>74</td>\n",
       "    </tr>\n",
       "    <tr>\n",
       "      <th>1</th>\n",
       "      <td>female</td>\n",
       "      <td>group C</td>\n",
       "      <td>some college</td>\n",
       "      <td>standard</td>\n",
       "      <td>69</td>\n",
       "      <td>90</td>\n",
       "      <td>88</td>\n",
       "    </tr>\n",
       "    <tr>\n",
       "      <th>2</th>\n",
       "      <td>female</td>\n",
       "      <td>group B</td>\n",
       "      <td>master's degree</td>\n",
       "      <td>standard</td>\n",
       "      <td>90</td>\n",
       "      <td>95</td>\n",
       "      <td>93</td>\n",
       "    </tr>\n",
       "    <tr>\n",
       "      <th>3</th>\n",
       "      <td>male</td>\n",
       "      <td>group A</td>\n",
       "      <td>associate's degree</td>\n",
       "      <td>free/reduced</td>\n",
       "      <td>47</td>\n",
       "      <td>57</td>\n",
       "      <td>44</td>\n",
       "    </tr>\n",
       "    <tr>\n",
       "      <th>4</th>\n",
       "      <td>male</td>\n",
       "      <td>group C</td>\n",
       "      <td>some college</td>\n",
       "      <td>standard</td>\n",
       "      <td>76</td>\n",
       "      <td>78</td>\n",
       "      <td>75</td>\n",
       "    </tr>\n",
       "  </tbody>\n",
       "</table>\n",
       "</div>"
      ],
      "text/plain": [
       "   gender race/ethnicity parental level of education         lunch  \\\n",
       "0  female        group B           bachelor's degree      standard   \n",
       "1  female        group C                some college      standard   \n",
       "2  female        group B             master's degree      standard   \n",
       "3    male        group A          associate's degree  free/reduced   \n",
       "4    male        group C                some college      standard   \n",
       "\n",
       "   math score  reading score  writing score  \n",
       "0          72             72             74  \n",
       "1          69             90             88  \n",
       "2          90             95             93  \n",
       "3          47             57             44  \n",
       "4          76             78             75  "
      ]
     },
     "execution_count": 610,
     "metadata": {},
     "output_type": "execute_result"
    }
   ],
   "source": [
    "x = dataset.drop(\"test preparation course\", axis=1)\n",
    "\n",
    "x.head()"
   ]
  },
  {
   "cell_type": "code",
   "execution_count": 611,
   "id": "7baea32c",
   "metadata": {},
   "outputs": [
    {
     "data": {
      "text/plain": [
       "0         none\n",
       "1    completed\n",
       "2         none\n",
       "3         none\n",
       "4         none\n",
       "Name: test preparation course, dtype: object"
      ]
     },
     "execution_count": 611,
     "metadata": {},
     "output_type": "execute_result"
    }
   ],
   "source": [
    "y = dataset[\"test preparation course\"]\n",
    "\n",
    "y.head()"
   ]
  },
  {
   "cell_type": "markdown",
   "id": "22d0c077",
   "metadata": {},
   "source": [
    "### Checking Target Class Imbalance"
   ]
  },
  {
   "cell_type": "code",
   "execution_count": 612,
   "id": "40c0707a",
   "metadata": {},
   "outputs": [
    {
     "name": "stdout",
     "output_type": "stream",
     "text": [
      "Class distribution:\n",
      "test preparation course\n",
      "none         642\n",
      "completed    358\n",
      "Name: count, dtype: int64\n",
      "\n",
      "\n",
      "Class Percentages:\n",
      "test preparation course\n",
      "none         64.2\n",
      "completed    35.8\n",
      "Name: proportion, dtype: float64\n"
     ]
    },
    {
     "data": {
      "image/png": "[encoded data removed]",
      "text/plain": [
       "<Figure size 600x400 with 1 Axes>"
      ]
     },
     "metadata": {},
     "output_type": "display_data"
    }
   ],
   "source": [
    "target_counts = dataset['test preparation course'].value_counts()\n",
    "print(\"Class distribution:\")\n",
    "print(target_counts)\n",
    "\n",
    "print(\"\\n\\nClass Percentages:\")\n",
    "print(dataset[\"test preparation course\"].value_counts(normalize=True) * 100)\n",
    "\n",
    "plt.figure(figsize=(6, 4))\n",
    "plt.bar(target_counts.index, target_counts.values, color=['#FF0000', '#008000'])\n",
    "\n",
    "plt.title(\"Class Distribution: Test Preparation Course\")\n",
    "plt.xlabel(\"\\nTest Preparation Status\")\n",
    "plt.ylabel(\"Number of Students\\n\")\n",
    "plt.grid(True, axis='y')\n",
    "plt.tight_layout()\n",
    "plt.show()"
   ]
  },
  {
   "cell_type": "markdown",
   "id": "0abdb546",
   "metadata": {},
   "source": [
    "### Encoding Independent variables"
   ]
  },
  {
   "cell_type": "code",
   "execution_count": 613,
   "id": "073388d2",
   "metadata": {},
   "outputs": [
    {
     "name": "stdout",
     "output_type": "stream",
     "text": [
      "     encoder__gender_male  encoder__race/ethnicity_group B  \\\n",
      "0                     0.0                              1.0   \n",
      "1                     0.0                              0.0   \n",
      "2                     0.0                              1.0   \n",
      "3                     1.0                              0.0   \n",
      "4                     1.0                              0.0   \n",
      "..                    ...                              ...   \n",
      "995                   0.0                              0.0   \n",
      "996                   1.0                              0.0   \n",
      "997                   0.0                              0.0   \n",
      "998                   0.0                              0.0   \n",
      "999                   0.0                              0.0   \n",
      "\n",
      "     encoder__race/ethnicity_group C  encoder__race/ethnicity_group D  \\\n",
      "0                                0.0                              0.0   \n",
      "1                                1.0                              0.0   \n",
      "2                                0.0                              0.0   \n",
      "3                                0.0                              0.0   \n",
      "4                                1.0                              0.0   \n",
      "..                               ...                              ...   \n",
      "995                              0.0                              0.0   \n",
      "996                              1.0                              0.0   \n",
      "997                              1.0                              0.0   \n",
      "998                              0.0                              1.0   \n",
      "999                              0.0                              1.0   \n",
      "\n",
      "     encoder__race/ethnicity_group E  \\\n",
      "0                                0.0   \n",
      "1                                0.0   \n",
      "2                                0.0   \n",
      "3                                0.0   \n",
      "4                                0.0   \n",
      "..                               ...   \n",
      "995                              1.0   \n",
      "996                              0.0   \n",
      "997                              0.0   \n",
      "998                              0.0   \n",
      "999                              0.0   \n",
      "\n",
      "     encoder__parental level of education_bachelor's degree  \\\n",
      "0                                                  1.0        \n",
      "1                                                  0.0        \n",
      "2                                                  0.0        \n",
      "3                                                  0.0        \n",
      "4                                                  0.0        \n",
      "..                                                 ...        \n",
      "995                                                0.0        \n",
      "996                                                0.0        \n",
      "997                                                0.0        \n",
      "998                                                0.0        \n",
      "999                                                0.0        \n",
      "\n",
      "     encoder__parental level of education_high school  \\\n",
      "0                                                 0.0   \n",
      "1                                                 0.0   \n",
      "2                                                 0.0   \n",
      "3                                                 0.0   \n",
      "4                                                 0.0   \n",
      "..                                                ...   \n",
      "995                                               0.0   \n",
      "996                                               1.0   \n",
      "997                                               1.0   \n",
      "998                                               0.0   \n",
      "999                                               0.0   \n",
      "\n",
      "     encoder__parental level of education_master's degree  \\\n",
      "0                                                  0.0      \n",
      "1                                                  0.0      \n",
      "2                                                  1.0      \n",
      "3                                                  0.0      \n",
      "4                                                  0.0      \n",
      "..                                                 ...      \n",
      "995                                                1.0      \n",
      "996                                                0.0      \n",
      "997                                                0.0      \n",
      "998                                                0.0      \n",
      "999                                                0.0      \n",
      "\n",
      "     encoder__parental level of education_some college  \\\n",
      "0                                                  0.0   \n",
      "1                                                  1.0   \n",
      "2                                                  0.0   \n",
      "3                                                  0.0   \n",
      "4                                                  1.0   \n",
      "..                                                 ...   \n",
      "995                                                0.0   \n",
      "996                                                0.0   \n",
      "997                                                0.0   \n",
      "998                                                1.0   \n",
      "999                                                1.0   \n",
      "\n",
      "     encoder__parental level of education_some high school  \\\n",
      "0                                                  0.0       \n",
      "1                                                  0.0       \n",
      "2                                                  0.0       \n",
      "3                                                  0.0       \n",
      "4                                                  0.0       \n",
      "..                                                 ...       \n",
      "995                                                0.0       \n",
      "996                                                0.0       \n",
      "997                                                0.0       \n",
      "998                                                0.0       \n",
      "999                                                0.0       \n",
      "\n",
      "     encoder__lunch_standard  remainder__math score  remainder__reading score  \\\n",
      "0                        1.0                   72.0                      72.0   \n",
      "1                        1.0                   69.0                      90.0   \n",
      "2                        1.0                   90.0                      95.0   \n",
      "3                        0.0                   47.0                      57.0   \n",
      "4                        1.0                   76.0                      78.0   \n",
      "..                       ...                    ...                       ...   \n",
      "995                      1.0                   88.0                      99.0   \n",
      "996                      0.0                   62.0                      55.0   \n",
      "997                      0.0                   59.0                      71.0   \n",
      "998                      1.0                   68.0                      78.0   \n",
      "999                      0.0                   77.0                      86.0   \n",
      "\n",
      "     remainder__writing score  \n",
      "0                        74.0  \n",
      "1                        88.0  \n",
      "2                        93.0  \n",
      "3                        44.0  \n",
      "4                        75.0  \n",
      "..                        ...  \n",
      "995                      95.0  \n",
      "996                      55.0  \n",
      "997                      65.0  \n",
      "998                      77.0  \n",
      "999                      86.0  \n",
      "\n",
      "[1000 rows x 14 columns]\n"
     ]
    }
   ],
   "source": [
    "from sklearn.compose import ColumnTransformer\n",
    "from sklearn.preprocessing import OneHotEncoder\n",
    "ct = ColumnTransformer(transformers=[('encoder', OneHotEncoder(drop = 'first'), [0, 1, 2, 3])], remainder='passthrough')    #use OneHotEncoder(drop = 'first') which Drops first category for each of 4 categorical variables to avoid dummy variable trap\n",
    "x = pd.DataFrame(ct.fit_transform(x), columns = ct.get_feature_names_out())\n",
    "\n",
    "print(pd.DataFrame(x))\n",
    "#print(x)"
   ]
  },
  {
   "cell_type": "markdown",
   "id": "485e0242",
   "metadata": {},
   "source": [
    "### Encoding Dependent variables"
   ]
  },
  {
   "cell_type": "code",
   "execution_count": 614,
   "id": "025a5571",
   "metadata": {},
   "outputs": [
    {
     "name": "stdout",
     "output_type": "stream",
     "text": [
      "     0\n",
      "0    1\n",
      "1    0\n",
      "2    1\n",
      "3    1\n",
      "4    1\n",
      "..  ..\n",
      "995  0\n",
      "996  1\n",
      "997  0\n",
      "998  0\n",
      "999  1\n",
      "\n",
      "[1000 rows x 1 columns]\n"
     ]
    }
   ],
   "source": [
    "from sklearn.preprocessing import LabelEncoder\n",
    "le = LabelEncoder()\n",
    "y = le.fit_transform(y) #assigned 0 & 1 in alphabetical order thus 0 = completed & 1 = none\n",
    "\n",
    "print(pd.DataFrame(y))\n",
    "#print(y)"
   ]
  },
  {
   "cell_type": "markdown",
   "id": "ae64ebd2",
   "metadata": {},
   "source": [
    "### Splitting Data into Training & Testing set"
   ]
  },
  {
   "cell_type": "code",
   "execution_count": 615,
   "id": "e663f596",
   "metadata": {},
   "outputs": [
    {
     "data": {
      "text/plain": [
       "((800, 14), (200, 14), (800,), (200,))"
      ]
     },
     "execution_count": 615,
     "metadata": {},
     "output_type": "execute_result"
    }
   ],
   "source": [
    "from sklearn.model_selection import train_test_split\n",
    "x_train, x_test, y_train, y_test = train_test_split(x, y, test_size = 0.2, random_state = 42)\n",
    "\n",
    "x_train.shape, x_test.shape, y_train.shape, y_test.shape"
   ]
  },
  {
   "cell_type": "markdown",
   "id": "271d7311",
   "metadata": {},
   "source": [
    "### Building Optimal Model using statsmodel.api"
   ]
  },
  {
   "cell_type": "markdown",
   "id": "afdbf4f4",
   "metadata": {},
   "source": [
    "### Training model on the Training Set"
   ]
  },
  {
   "cell_type": "code",
   "execution_count": 616,
   "id": "44dafac5",
   "metadata": {},
   "outputs": [
    {
     "name": "stdout",
     "output_type": "stream",
     "text": [
      "Optimization terminated successfully.\n",
      "         Current function value: 0.494277\n",
      "         Iterations 6\n",
      "                           Logit Regression Results                           \n",
      "==============================================================================\n",
      "Dep. Variable:                      y   No. Observations:                  800\n",
      "Model:                          Logit   Df Residuals:                      785\n",
      "Method:                           MLE   Df Model:                           14\n",
      "Date:                Tue, 24 Jun 2025   Pseudo R-squ.:                  0.2357\n",
      "Time:                        02:41:33   Log-Likelihood:                -395.42\n",
      "converged:                       True   LL-Null:                       -517.34\n",
      "Covariance Type:            nonrobust   LLR p-value:                 5.424e-44\n",
      "==========================================================================================================================\n",
      "                                                             coef    std err          z      P>|z|      [0.025      0.975]\n",
      "--------------------------------------------------------------------------------------------------------------------------\n",
      "const                                                      5.9277      0.701      8.459      0.000       4.554       7.301\n",
      "encoder__gender_male                                      -2.5338      0.306     -8.292      0.000      -3.133      -1.935\n",
      "encoder__race/ethnicity_group B                            0.1465      0.365      0.401      0.688      -0.569       0.862\n",
      "encoder__race/ethnicity_group C                            0.3233      0.340      0.951      0.342      -0.343       0.990\n",
      "encoder__race/ethnicity_group D                            1.0984      0.358      3.068      0.002       0.397       1.800\n",
      "encoder__race/ethnicity_group E                           -0.6152      0.385     -1.598      0.110      -1.370       0.140\n",
      "encoder__parental level of education_bachelor's degree     0.6307      0.309      2.044      0.041       0.026       1.236\n",
      "encoder__parental level of education_high school          -0.1410      0.280     -0.504      0.614      -0.689       0.407\n",
      "encoder__parental level of education_master's degree       0.6209      0.406      1.530      0.126      -0.174       1.416\n",
      "encoder__parental level of education_some college          0.0830      0.259      0.320      0.749      -0.426       0.592\n",
      "encoder__parental level of education_some high school     -0.4893      0.284     -1.723      0.085      -1.046       0.067\n",
      "encoder__lunch_standard                                    0.4932      0.203      2.424      0.015       0.094       0.892\n",
      "remainder__math score                                      0.1158      0.017      6.814      0.000       0.082       0.149\n",
      "remainder__reading score                                   0.1337      0.023      5.790      0.000       0.088       0.179\n",
      "remainder__writing score                                  -0.3140      0.029    -10.913      0.000      -0.370      -0.258\n",
      "==========================================================================================================================\n"
     ]
    }
   ],
   "source": [
    "import statsmodels.api as sm\n",
    "x_train_opt = sm.add_constant(x_train)\n",
    "x_train_opt = x_train_opt.astype(np.float64)\n",
    "model_train = sm.Logit(y_train, x_train_opt).fit()\n",
    "\n",
    "print(model_train.summary())"
   ]
  },
  {
   "cell_type": "markdown",
   "id": "bc28faf6",
   "metadata": {},
   "source": [
    "### Evaluating Performance & Confusion Matrix"
   ]
  },
  {
   "cell_type": "code",
   "execution_count": 617,
   "id": "c5276d81",
   "metadata": {},
   "outputs": [
    {
     "name": "stdout",
     "output_type": "stream",
     "text": [
      "              precision    recall  f1-score   support\n",
      "\n",
      "           0       0.69      0.54      0.61        79\n",
      "           1       0.74      0.84      0.79       121\n",
      "\n",
      "    accuracy                           0.72       200\n",
      "   macro avg       0.72      0.69      0.70       200\n",
      "weighted avg       0.72      0.72      0.72       200\n",
      "\n",
      "Confusion Matrix:\n",
      " [[ 43  36]\n",
      " [ 19 102]]\n"
     ]
    },
    {
     "data": {
      "image/png": "[encoded data removed]",
      "text/plain": [
       "<Figure size 600x400 with 2 Axes>"
      ]
     },
     "metadata": {},
     "output_type": "display_data"
    }
   ],
   "source": [
    "#Predict probabilities\n",
    "x_test_opt = sm.add_constant(x_test)\n",
    "y_pred = model_train.predict(x_test_opt)\n",
    "y_pred_class = (y_pred > 0.5).astype(int)\n",
    "\n",
    "#Evaluate performance\n",
    "from sklearn.metrics import classification_report, confusion_matrix\n",
    "print(classification_report(y_test, y_pred_class))\n",
    "\n",
    "cm = confusion_matrix(y_test, y_pred_class)\n",
    "print(\"Confusion Matrix:\\n\", cm)\n",
    "\n",
    "plt.figure(figsize=(6, 4))\n",
    "\n",
    "sns.heatmap(cm, annot=True, fmt='d', cmap='YlGnBu',\n",
    "            xticklabels=['completed', 'none'],\n",
    "            yticklabels=['completed', 'none'])\n",
    "\n",
    "plt.title(\"Confusion Matrix\\n\")\n",
    "plt.xlabel(\"\\nPredicted Label\")\n",
    "plt.ylabel(\"Actual Label\\n\")\n",
    "plt.tight_layout()\n",
    "plt.show()"
   ]
  },
  {
   "cell_type": "markdown",
   "id": "bbacf750",
   "metadata": {},
   "source": [
    "### Training on Full Dataset"
   ]
  },
  {
   "cell_type": "code",
   "execution_count": 618,
   "id": "8a97e62b",
   "metadata": {},
   "outputs": [
    {
     "name": "stdout",
     "output_type": "stream",
     "text": [
      "Optimization terminated successfully.\n",
      "         Current function value: 0.499256\n",
      "         Iterations 6\n",
      "                           Logit Regression Results                           \n",
      "==============================================================================\n",
      "Dep. Variable:                      y   No. Observations:                 1000\n",
      "Model:                          Logit   Df Residuals:                      985\n",
      "Method:                           MLE   Df Model:                           14\n",
      "Date:                Tue, 24 Jun 2025   Pseudo R-squ.:                  0.2346\n",
      "Time:                        02:41:33   Log-Likelihood:                -499.26\n",
      "converged:                       True   LL-Null:                       -652.26\n",
      "Covariance Type:            nonrobust   LLR p-value:                 6.604e-57\n",
      "==========================================================================================================================\n",
      "                                                             coef    std err          z      P>|z|      [0.025      0.975]\n",
      "--------------------------------------------------------------------------------------------------------------------------\n",
      "const                                                      6.1736      0.616     10.026      0.000       4.967       7.381\n",
      "encoder__gender_male                                      -2.5689      0.271     -9.486      0.000      -3.100      -2.038\n",
      "encoder__race/ethnicity_group B                           -0.2068      0.322     -0.642      0.521      -0.838       0.424\n",
      "encoder__race/ethnicity_group C                            0.0002      0.300      0.001      0.999      -0.588       0.588\n",
      "encoder__race/ethnicity_group D                            0.7457      0.313      2.383      0.017       0.132       1.359\n",
      "encoder__race/ethnicity_group E                           -0.8013      0.347     -2.312      0.021      -1.481      -0.122\n",
      "encoder__parental level of education_bachelor's degree     0.4622      0.278      1.664      0.096      -0.082       1.007\n",
      "encoder__parental level of education_high school          -0.2502      0.251     -0.998      0.318      -0.742       0.241\n",
      "encoder__parental level of education_master's degree       0.7887      0.366      2.156      0.031       0.072       1.506\n",
      "encoder__parental level of education_some college          0.0667      0.233      0.286      0.775      -0.391       0.524\n",
      "encoder__parental level of education_some high school     -0.9047      0.251     -3.606      0.000      -1.396      -0.413\n",
      "encoder__lunch_standard                                    0.3701      0.178      2.079      0.038       0.021       0.719\n",
      "remainder__math score                                      0.1218      0.015      8.003      0.000       0.092       0.152\n",
      "remainder__reading score                                   0.1228      0.020      6.117      0.000       0.083       0.162\n",
      "remainder__writing score                                  -0.3061      0.025    -12.378      0.000      -0.355      -0.258\n",
      "==========================================================================================================================\n"
     ]
    }
   ],
   "source": [
    "import statsmodels.api as sm\n",
    "x_opt = sm.add_constant(x)\n",
    "x_opt = x_opt.astype(np.float64)\n",
    "regressor_logit = sm.Logit(y, x_opt).fit()\n",
    "\n",
    "print(regressor_logit.summary())"
   ]
  },
  {
   "cell_type": "markdown",
   "id": "d5fab6ca",
   "metadata": {},
   "source": [
    "### Prediction Matrix & Confusion Matrix"
   ]
  },
  {
   "cell_type": "code",
   "execution_count": 619,
   "id": "220f4b71",
   "metadata": {},
   "outputs": [
    {
     "name": "stdout",
     "output_type": "stream",
     "text": [
      "Confusion Matrix:\n",
      "[[198 160]\n",
      " [101 541]]\n"
     ]
    },
    {
     "data": {
      "image/png": "[encoded data removed]",
      "text/plain": [
       "<Figure size 600x400 with 2 Axes>"
      ]
     },
     "metadata": {},
     "output_type": "display_data"
    },
    {
     "name": "stdout",
     "output_type": "stream",
     "text": [
      "              precision    recall  f1-score   support\n",
      "\n",
      "           0       0.69      0.54      0.61        79\n",
      "           1       0.74      0.84      0.79       121\n",
      "\n",
      "    accuracy                           0.72       200\n",
      "   macro avg       0.72      0.69      0.70       200\n",
      "weighted avg       0.72      0.72      0.72       200\n",
      "\n"
     ]
    }
   ],
   "source": [
    "# Get predicted probabilities and classes\n",
    "pred_probabilities = regressor_logit.predict(x_opt)\n",
    "pred_classes = (pred_probabilities > 0.5).astype(int)\n",
    "\n",
    "#Get Confusion Matrix\n",
    "confusion_matrix = pd.crosstab(y, pred_classes)\n",
    "print(\"Confusion Matrix:\")\n",
    "print(confusion_matrix.values)\n",
    "\n",
    "class_names = ['completed', 'none']\n",
    "\n",
    "# Plotting the confusion matrix\n",
    "plt.figure(figsize=(6, 4))\n",
    "\n",
    "sns.heatmap(conf_matrix, annot=True, fmt='d', cmap='Blues',\n",
    "            xticklabels=['completed', 'none'],\n",
    "            yticklabels=['completed', 'none'])\n",
    "\n",
    "plt.title(\"Confusion Matrix\\n\")\n",
    "plt.xlabel(\"\\nPredicted Label\")\n",
    "plt.ylabel(\"Actual Label\\n\")\n",
    "plt.tight_layout()\n",
    "plt.show()\n",
    "\n",
    "from sklearn.metrics import classification_report, confusion_matrix\n",
    "print(classification_report(y_test, y_pred_class))"
   ]
  },
  {
   "cell_type": "code",
   "execution_count": 620,
   "id": "62ed5591",
   "metadata": {},
   "outputs": [
    {
     "name": "stdout",
     "output_type": "stream",
     "text": [
      "              precision    recall  f1-score   support\n",
      "\n",
      "           0       0.69      0.54      0.61        79\n",
      "           1       0.74      0.84      0.79       121\n",
      "\n",
      "    accuracy                           0.72       200\n",
      "   macro avg       0.72      0.69      0.70       200\n",
      "weighted avg       0.72      0.72      0.72       200\n",
      "\n",
      "Confusion Matrix:\n",
      " [[ 43  36]\n",
      " [ 19 102]]\n"
     ]
    }
   ],
   "source": [
    "x_test_opt = sm.add_constant(x_test)  # Add intercept to TEST data\n",
    "y_pred = regressor_logit_train.predict(x_test_opt)    # Predict probabilities\n",
    "y_pred_class = (y_pred > 0.5).astype(int)  # Convert to binary\n",
    "\n",
    "# Evaluate performance\n",
    "from sklearn.metrics import classification_report, confusion_matrix\n",
    "print(classification_report(y_test, y_pred_class))\n",
    "\n",
    "cm = confusion_matrix(y_test, y_pred_class)\n",
    "print(\"Confusion Matrix:\\n\", cm)"
   ]
  },
  {
   "cell_type": "code",
   "execution_count": null,
   "id": "3767b47c",
   "metadata": {},
   "outputs": [],
   "source": []
  }
 ],
 "metadata": {
  "kernelspec": {
   "display_name": "Python 3",
   "language": "python",
   "name": "python3"
  },
  "language_info": {
   "codemirror_mode": {
    "name": "ipython",
    "version": 3
   },
   "file_extension": ".py",
   "mimetype": "text/x-python",
   "name": "python",
   "nbconvert_exporter": "python",
   "pygments_lexer": "ipython3",
   "version": "3.13.2"
  }
 },
 "nbformat": 4,
 "nbformat_minor": 5
}
